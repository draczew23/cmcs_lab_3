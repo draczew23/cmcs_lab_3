{
 "cells": [
  {
   "cell_type": "markdown",
   "metadata": {},
   "source": [
    "# Task 1"
   ]
  },
  {
   "cell_type": "code",
   "execution_count": 47,
   "metadata": {},
   "outputs": [],
   "source": [
    "import numpy as np\n",
    "from scipy.spatial import cKDTree\n",
    "import matplotlib.pyplot as plt\n",
    "import random\n",
    "from scipy import sparse"
   ]
  },
  {
   "cell_type": "code",
   "execution_count": 53,
   "metadata": {},
   "outputs": [
    {
     "data": {
      "image/png": "[encoded data removed]",
      "text/plain": [
       "<Figure size 432x288 with 1 Axes>"
      ]
     },
     "metadata": {
      "needs_background": "light"
     },
     "output_type": "display_data"
    }
   ],
   "source": [
    "# initializing our birds positions\n",
    "def initialize_birds(L, N):\n",
    "    x_positons = np.random.uniform(0, L - 1, N)\n",
    "    y_positons = np.random.uniform(0, L - 1, N) \n",
    "\n",
    "    combined = np.vstack((x_positons, y_positons)).T\n",
    "    return combined\n",
    "\n",
    "\n",
    "# we have to make a 2d vector of velocities\n",
    "def initialize_velocities(positions, v_0):\n",
    "\n",
    "    xes = positions[0:, 0:1]\n",
    "    yes = positions[0:, 1:] * 1j\n",
    "    z = xes + yes\n",
    "\n",
    "    angles = np.angle(z)\n",
    "    vx = v_0 * np.cos(angles)\n",
    "    vy = v_0 * np.sin(angles)    \n",
    "\n",
    "    combined = np.column_stack((vx, vy))\n",
    "    return combined\n",
    "\n",
    "\n",
    "# calculating angles of birds vs horiontal line\n",
    "def calc_angles(positions):\n",
    "\n",
    "    xes = positions[0:, 0:1]\n",
    "    yes = positions[0:, 1:] * 1j\n",
    "    z = xes + yes\n",
    "\n",
    "    angles = np.angle(z)\n",
    "    return angles\n",
    "\n",
    "\n",
    "# add noise in radians\n",
    "def add_noise(noise_val_degrees, number):\n",
    "    noise = np.random.uniform(-noise_val_degrees, noise_val_degrees, number)\n",
    "    noise_radians = np.radians(noise)\n",
    "\n",
    "    return noise_radians\n",
    "\n",
    "\n",
    "def update_angles(dist, angles):\n",
    "\n",
    "    dist_copy = dist.copy()\n",
    "    dist_copy_dense = dist_copy.todense()\n",
    "    dist_no_zero = dist_copy_dense != 0\n",
    "    dist_copy_dense[dist_no_zero] = 1\n",
    "\n",
    "    exp_angles_vec = np.exp(1j * angles)\n",
    "    sum_average_direction = np.dot(dist_copy_dense, exp_angles_vec)\n",
    "    noise = add_noise(5, N)\n",
    "    noise_matrix = np.asmatrix(noise).T\n",
    "    new_angles = np.angle(sum_average_direction) + a * noise_matrix\n",
    "    return new_angles   \n",
    "\n",
    "\n",
    "def apply_boundary_conditions(positions, new_x, new_y, L):\n",
    "    # boundary conditions\n",
    "    new_x = np.where(new_x < L, new_x, new_x - L)\n",
    "    new_x = np.where(new_x > 0, new_x, new_x + L)\n",
    "\n",
    "    new_y = np.where(new_y < L, new_y, new_y - L)\n",
    "    new_y = np.where(new_y > 0, new_y, new_y + L)\n",
    "\n",
    "    positions[0:, 0:1] = new_x\n",
    "    positions[0:, 1:] = new_y\n",
    "\n",
    "\n",
    "def new_velocity(velocity):\n",
    "    pass\n",
    "\n",
    "# Initialization parameters\n",
    "\n",
    "\n",
    "L = 5\n",
    "N = 100\n",
    "r = 1\n",
    "r_b = 4\n",
    "v_0 = 2\n",
    "a = 0.15\n",
    "\n",
    "t_steps = 100\n",
    "\n",
    "#  Here we initialize our birds postions and velocities\n",
    "positions = initialize_birds(L, N)\n",
    "velocities = initialize_velocities(positions, v_0)\n",
    "angles = calc_angles(positions)\n",
    "\n",
    "x_pos = positions[0:, 0:1]\n",
    "y_pos = positions[0:, 1:]\n",
    "\n",
    "for t in range(t_steps):\n",
    "    # Creation of birds tree\n",
    "    angles = calc_angles(positions) \n",
    "    birds_tree = cKDTree(positions, boxsize=[L,L])\n",
    "    dist = birds_tree.sparse_distance_matrix(birds_tree,max_distance=r,output_type='coo_matrix') # format wyniku (ptak i, ptak j, dystans)\n",
    "\n",
    "    new_angles = update_angles(dist, angles)\n",
    "\n",
    "    new_x = positions[0:, 0:1] + v_0 * np.cos(new_angles) #\n",
    "    new_y = positions[0:, 1:] + v_0 * np.sin(new_angles)   \n",
    "\n",
    "    apply_boundary_conditions(positions, new_x, new_y, L)\n",
    "    # boundary conditions\n",
    "    #new_x = np.where(new_x < L, new_x, new_x - L)\n",
    "    #new_x = np.where(new_x > 0, new_x, new_x + L)\n",
    "\n",
    "    #new_y = np.where(new_y < L, new_y, new_y - L)\n",
    "    #new_y = np.where(new_y > 0, new_y, new_y + L)\n",
    "\n",
    "    #positions[0:, 0:1] = new_x\n",
    "    #positions[0:, 1:] = new_y\n",
    "\n",
    "    plt.clf()\n",
    "    plt.quiver(np.asarray(positions[0:, 0:1]), np.asarray(positions[0:, 1:]), np.asarray(positions[0:, 0:1]), np.asarray(positions[0:, 1:]), angles)\n",
    "    nStr = str(t) \n",
    "    nStr = nStr.rjust(5, '0')\n",
    "    plt.title(\"Swarm, step \" + nStr)\n",
    "    plt.savefig('img' + nStr + '.png')\n"
   ]
  },
  {
   "cell_type": "markdown",
   "metadata": {},
   "source": [
    "### Delete plots"
   ]
  },
  {
   "cell_type": "code",
   "execution_count": 59,
   "metadata": {},
   "outputs": [],
   "source": [
    "import os\n",
    "\n",
    "dir_name = \"D:\\Matieriały magisterskie\\sem_1\\Computer modeling of complex systems\\cmcs_lab_3\"\n",
    "test = os.listdir(dir_name)\n",
    "\n",
    "for item in test:\n",
    "    if item.endswith(\".png\"):\n",
    "        os.remove(os.path.join(dir_name, item))"
   ]
  }
 ],
 "metadata": {
  "interpreter": {
   "hash": "07efdcd4b820c98a756949507a4d29d7862823915ec7477944641bea022f4f62"
  },
  "kernelspec": {
   "display_name": "Python 3.8.8 64-bit ('base': conda)",
   "name": "python3"
  },
  "language_info": {
   "codemirror_mode": {
    "name": "ipython",
    "version": 3
   },
   "file_extension": ".py",
   "mimetype": "text/x-python",
   "name": "python",
   "nbconvert_exporter": "python",
   "pygments_lexer": "ipython3",
   "version": "3.8.8"
  },
  "orig_nbformat": 4
 },
 "nbformat": 4,
 "nbformat_minor": 2
}
