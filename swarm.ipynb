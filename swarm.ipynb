{
 "cells": [
  {
   "cell_type": "markdown",
   "metadata": {},
   "source": [
    "# Task 1"
   ]
  },
  {
   "cell_type": "code",
   "execution_count": null,
   "metadata": {},
   "outputs": [],
   "source": [
    "import numpy as np\n",
    "from scipy.spatial import cKDTree\n",
    "import matplotlib.pyplot as plt\n",
    "import random\n",
    "from scipy import sparse"
   ]
  },
  {
   "cell_type": "code",
   "execution_count": null,
   "metadata": {},
   "outputs": [],
   "source": [
    "\n",
    "def initialize_birds(L, N):\n",
    "    x_positons = np.random.uniform(0, L, N)\n",
    "    y_positons = np.random.uniform(0, L, N) \n",
    "\n",
    "    combined = np.vstack((x_positons, y_positons)).T\n",
    "    return combined\n",
    "\n",
    "# we have to make a 2d vector of velocities\n",
    "def initialize_velocities(positions, v_0):\n",
    "\n",
    "    xes = positions[0:, 0:1]\n",
    "    yes = positions[0:, 1:] * 1j\n",
    "    z = xes + yes\n",
    "\n",
    "    angles = np.angle(z)\n",
    "    vx = v_0 * np.cos(angles)\n",
    "    vy = v_0 * np.sin(angles)    \n",
    "\n",
    "    combined = np.vstack((vx, vy)).T\n",
    "    return combined\n",
    "\n",
    "def find_nearest_neighbors(positons):\n",
    "    pass\n",
    "\n",
    "\n",
    "def new_direction(direction):\n",
    "    pass\n",
    "\n",
    "\n",
    "def new_velocity(velocity):\n",
    "    pass\n",
    "\n",
    "# Initialization parameters\n",
    "\n",
    "L = 2\n",
    "N = 10\n",
    "r = 1\n",
    "r_b = 4\n",
    "v_0 = 2\n",
    "a = 0.15\n",
    "\n",
    "#  Here we initialize our birds postions and velocities\n",
    "positions = initialize_birds(L, N)\n",
    "velocities = initialize_velocities(positions, v_0)\n",
    "\n",
    "# Creation of birds tree \n",
    "birds_tree = cKDTree(positions, boxsize=[L,L])\n",
    "dist = birds_tree.sparse_distance_matrix(birds_tree,max_distance=r,output_type='coo_matrix') # format wyniku (ptak i, ptak j, dystans)\n",
    "\n",
    "# dist is a sparse matrix where distances beetween birds calculated, output format is (bird_i, bird_j, distance)\n",
    "\n",
    "orient = np.random.uniform(-np.pi, np.pi, size=N)\n",
    "data = np.exp(orient[dist.col]*1j)\n",
    "neigh = sparse.coo_matrix(data, (dist.row(), dist.col()), shape = dist.get_shape()) # macierz do ktorej od razu wstawiamy w miejsca niezerowe macierzy exponenty\n",
    "# trzeba policzyc elementy niezerowe od ptakow -> uzyskamy info ile ptakow\n",
    "# w miejsca niezerowe macierzy dist trzeba zrobic exp(ithetai) gdzie theta_i to jest kąt między vektorem prędkości ptaka a poziomem\n",
    "\n",
    "dist_no_zero = dist != 0\n",
    "non_zero_index = dist.nonzero()\n",
    "\n",
    "\n",
    "#dist_copy[dist_no_zero] = 1\n",
    "\n",
    "sum_distances = np.sum(dist, axis=0)\n",
    "\n",
    "#test = np.exp(dist)\n",
    "#print(dist)\n",
    "#print(sum_distances)\n",
    "print(velocities)"
   ]
  },
  {
   "cell_type": "markdown",
   "metadata": {},
   "source": [
    "## Test with calculating angles"
   ]
  },
  {
   "cell_type": "code",
   "execution_count": null,
   "metadata": {},
   "outputs": [],
   "source": [
    "positions = initialize_birds(L, N)\n",
    "#print(positions)\n",
    "xes = positions[0:, 0:1]\n",
    "yes = positions[0:, 1:] * 1j\n",
    "z = xes + yes\n",
    "\n",
    "angles = np.angle(z)\n",
    "vx = v_0 * np.cos(angles)\n",
    "vy = v_0 * np.sin(angles)\n",
    "\n",
    "vel = np.vstack((vx, vy)).T\n",
    "print(vel)"
   ]
  },
  {
   "cell_type": "markdown",
   "metadata": {},
   "source": [
    "# Fun with sparse matrices"
   ]
  },
  {
   "cell_type": "code",
   "execution_count": 16,
   "metadata": {},
   "outputs": [
    {
     "name": "stdout",
     "output_type": "stream",
     "text": [
      "Dense matrix representation: \n",
      " [[1 0 0 0 0 0]\n",
      " [0 0 2 0 0 1]\n",
      " [0 0 0 2 0 0]]\n",
      "Sparse matrix: \n",
      "   (0, 0)\t1\n",
      "  (1, 2)\t2\n",
      "  (1, 5)\t1\n",
      "  (2, 3)\t2\n",
      "Dense matrix: \n",
      " [[1 0 0 0 0 0]\n",
      " [0 0 2 0 0 1]\n",
      " [0 0 0 2 0 0]]\n",
      "[[ True False False False False False]\n",
      " [False False  True False False  True]\n",
      " [False False False  True False False]]\n",
      "[[1 8 8 8 8 8]\n",
      " [8 8 2 8 8 1]\n",
      " [8 8 8 2 8 8]]\n"
     ]
    }
   ],
   "source": [
    "import numpy as np\n",
    "from scipy.sparse import csr_matrix\n",
    "\n",
    "# create a 2-D representation of the matrix\n",
    "A = np.array([[1, 0, 0, 0, 0, 0], [0, 0, 2, 0, 0, 1],\\\n",
    " [0, 0, 0, 2, 0, 0]])\n",
    "print(\"Dense matrix representation: \\n\", A)\n",
    "\n",
    "# convert to sparse matrix representation \n",
    "S = csr_matrix(A)\n",
    "print(\"Sparse matrix: \\n\",S)\n",
    "\n",
    "# convert back to 2-D representation of the matrix\n",
    "B = S.todense()\n",
    "print(\"Dense matrix: \\n\", B)\n",
    "\n",
    "g = B > 0\n",
    "print(g)    # Here i can input numbers in nonzero indices \n",
    "B[~g] = 8\n",
    "print(B)\n"
   ]
  }
 ],
 "metadata": {
  "interpreter": {
   "hash": "07efdcd4b820c98a756949507a4d29d7862823915ec7477944641bea022f4f62"
  },
  "kernelspec": {
   "display_name": "Python 3.8.8 64-bit ('base': conda)",
   "name": "python3"
  },
  "language_info": {
   "codemirror_mode": {
    "name": "ipython",
    "version": 3
   },
   "file_extension": ".py",
   "mimetype": "text/x-python",
   "name": "python",
   "nbconvert_exporter": "python",
   "pygments_lexer": "ipython3",
   "version": "3.8.8"
  },
  "orig_nbformat": 4
 },
 "nbformat": 4,
 "nbformat_minor": 2
}
