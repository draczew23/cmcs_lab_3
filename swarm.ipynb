{
 "cells": [
  {
   "cell_type": "markdown",
   "metadata": {},
   "source": [
    "# Task 1"
   ]
  },
  {
   "cell_type": "code",
   "execution_count": 2,
   "metadata": {},
   "outputs": [],
   "source": [
    "import numpy as np\n",
    "from scipy.spatial import cKDTree\n",
    "import matplotlib.pyplot as plt\n",
    "import random\n",
    "from scipy import sparse"
   ]
  },
  {
   "cell_type": "code",
   "execution_count": 37,
   "metadata": {},
   "outputs": [
    {
     "name": "stdout",
     "output_type": "stream",
     "text": [
      "[[1.88898402 0.65706877]\n",
      " [1.21648868 1.5874997 ]\n",
      " [0.79958825 1.83320992]\n",
      " [1.22250398 1.58287208]\n",
      " [1.15967797 1.62946218]\n",
      " [0.95290871 1.75839842]\n",
      " [0.52239922 1.93056962]\n",
      " [0.92888687 1.77120557]\n",
      " [1.83092687 0.80480234]\n",
      " [1.99977843 0.02976948]]\n"
     ]
    }
   ],
   "source": [
    "#initializing our birds positions\n",
    "def initialize_birds(L, N):\n",
    "    x_positons = np.random.uniform(0, L, N)\n",
    "    y_positons = np.random.uniform(0, L, N) \n",
    "\n",
    "    combined = np.vstack((x_positons, y_positons)).T\n",
    "    return combined\n",
    "\n",
    "# we have to make a 2d vector of velocities\n",
    "def initialize_velocities(positions, v_0):\n",
    "\n",
    "    xes = positions[0:, 0:1]\n",
    "    yes = positions[0:, 1:] * 1j\n",
    "    z = xes + yes\n",
    "\n",
    "    angles = np.angle(z)\n",
    "    vx = v_0 * np.cos(angles)\n",
    "    vy = v_0 * np.sin(angles)    \n",
    "\n",
    "    combined = np.column_stack((vx, vy))\n",
    "    return combined\n",
    "\n",
    "# calculating angles of birds vs horiontal line\n",
    "def calc_angles(positions):\n",
    "\n",
    "    xes = positions[0:, 0:1]\n",
    "    yes = positions[0:, 1:] * 1j\n",
    "    z = xes + yes\n",
    "\n",
    "    angles = np.angle(z)\n",
    "    return angles\n",
    "\n",
    "def find_nearest_neighbors(positons):\n",
    "    pass\n",
    "\n",
    "\n",
    "def new_direction(direction):\n",
    "    pass\n",
    "\n",
    "\n",
    "def new_velocity(velocity):\n",
    "    pass\n",
    "\n",
    "# Initialization parameters\n",
    "\n",
    "L = 2\n",
    "N = 10\n",
    "r = 1\n",
    "r_b = 4\n",
    "v_0 = 2\n",
    "a = 0.15\n",
    "\n",
    "t_steps = 100\n",
    "\n",
    "#  Here we initialize our birds postions and velocities\n",
    "positions = initialize_birds(L, N)\n",
    "velocities = initialize_velocities(positions, v_0)\n",
    "angles = calc_angles(positions)\n",
    "\n",
    "# Creation of birds tree \n",
    "birds_tree = cKDTree(positions, boxsize=[L,L])\n",
    "dist = birds_tree.sparse_distance_matrix(birds_tree,max_distance=r,output_type='coo_matrix') # format wyniku (ptak i, ptak j, dystans)\n",
    "\n",
    "# dist is a sparse matrix where distances beetween birds calculated, output format is (bird_i, bird_j, distance)\n",
    "\n",
    "#orient = np.random.uniform(-np.pi, np.pi, size=N)\n",
    "#data = np.exp(orient[dist.col]*1j)\n",
    "#neigh = sparse.coo_matrix(data, (dist.row(), dist.col()), shape = dist.get_shape()) # macierz do ktorej od razu wstawiamy w miejsca niezerowe macierzy exponenty\n",
    "# trzeba policzyc elementy niezerowe od ptakow -> uzyskamy info ile ptakow\n",
    "# w miejsca niezerowe macierzy dist trzeba zrobic exp(ithetai) gdzie theta_i to jest kąt między vektorem prędkości ptaka a poziomem\n",
    "\n",
    "dist_no_zero = dist != 0\n",
    "non_zero_index = dist.nonzero()\n",
    "\n",
    "\n",
    "\n",
    "sum_distances = np.sum(dist, axis=0)\n",
    "\n",
    "print(velocities)"
   ]
  },
  {
   "cell_type": "markdown",
   "metadata": {},
   "source": [
    "## Test with calculating angles\n",
    "This will be needed to properly update velocities of birds"
   ]
  },
  {
   "cell_type": "code",
   "execution_count": 17,
   "metadata": {},
   "outputs": [
    {
     "name": "stdout",
     "output_type": "stream",
     "text": [
      "[[1.40220359]\n",
      " [0.7112598 ]\n",
      " [0.20999438]\n",
      " [0.72381125]\n",
      " [1.19445393]\n",
      " [1.09534422]\n",
      " [0.98274565]\n",
      " [1.11911765]\n",
      " [0.53276596]\n",
      " [0.39384235]]\n"
     ]
    }
   ],
   "source": [
    "positions = initialize_birds(L, N)\n",
    "#print(positions)\n",
    "xes = positions[0:, 0:1]\n",
    "yes = positions[0:, 1:] * 1j\n",
    "z = xes + yes\n",
    "\n",
    "angles = np.angle(z)\n",
    "vx = v_0 * np.cos(angles)\n",
    "vy = v_0 * np.sin(angles)\n",
    "\n",
    "vel = np.column_stack((vx, vy)) # problem with velocity solved\n",
    "print(angles)"
   ]
  },
  {
   "cell_type": "markdown",
   "metadata": {},
   "source": [
    "## Fun with sparse matrices"
   ]
  },
  {
   "cell_type": "code",
   "execution_count": 5,
   "metadata": {},
   "outputs": [
    {
     "name": "stdout",
     "output_type": "stream",
     "text": [
      "Dense matrix representation: \n",
      " [[1 0 0 0 0 0]\n",
      " [0 0 2 0 0 1]\n",
      " [0 0 0 2 0 0]]\n",
      "Sparse matrix: \n",
      "   (0, 0)\t1\n",
      "  (1, 2)\t2\n",
      "  (1, 5)\t1\n",
      "  (2, 3)\t2\n",
      "Dense matrix: \n",
      " [[1 0 0 0 0 0]\n",
      " [0 0 2 0 0 1]\n",
      " [0 0 0 2 0 0]]\n",
      "[[ True False False False False False]\n",
      " [False False  True False False  True]\n",
      " [False False False  True False False]]\n",
      "[[8 0 0 0 0 0]\n",
      " [0 0 8 0 0 8]\n",
      " [0 0 0 8 0 0]]\n",
      "<class 'tuple'>\n"
     ]
    }
   ],
   "source": [
    "import numpy as np\n",
    "from scipy.sparse import csr_matrix\n",
    "\n",
    "# create a 2-D representation of the matrix\n",
    "A = np.array([[1, 0, 0, 0, 0, 0], [0, 0, 2, 0, 0, 1],\\\n",
    " [0, 0, 0, 2, 0, 0]])\n",
    "print(\"Dense matrix representation: \\n\", A)\n",
    "\n",
    "# convert to sparse matrix representation \n",
    "S = csr_matrix(A)\n",
    "print(\"Sparse matrix: \\n\",S)\n",
    "\n",
    "# convert back to 2-D representation of the matrix\n",
    "B = S.todense()\n",
    "print(\"Dense matrix: \\n\", B)\n",
    "\n",
    "g = B > 0\n",
    "print(g)    # Here i can input numbers in nonzero indices \n",
    "B[g] = 8\n",
    "print(B)\n",
    "\n",
    "# thats good news, we succesfuly inputed numbers to sparse matrix \n",
    "\n",
    "test = dist.todense()\n",
    "dist_numb = test != 0\n",
    "test[dist_numb] = 1\n",
    "#print(test)\n",
    "new = csr_matrix(test)\n",
    "nonzero_indices = new.nonzero()\n",
    "\n",
    "print(type(nonzero_indices))"
   ]
  },
  {
   "cell_type": "markdown",
   "metadata": {},
   "source": [
    "## Angles done correctly"
   ]
  },
  {
   "cell_type": "code",
   "execution_count": 33,
   "metadata": {},
   "outputs": [
    {
     "name": "stdout",
     "output_type": "stream",
     "text": [
      "33.69006752597979\n",
      "14.036243467926479\n",
      "23.198590513648192\n"
     ]
    }
   ],
   "source": [
    "exponential_angles = np.exp(1j * angles)\n",
    "exponential_angles_real_part = np.real(exponential_angles)\n",
    "exponential_angles_imag_part = np.imag(exponential_angles)\n",
    "#print(exponential_angles)\n",
    "#print(exponential_angles_real_part)\n",
    "#print(exponential_angles_imag_part)\n",
    "\n",
    "a = 0.3 + 1j * 0.2\n",
    "b = 0.4 + 1j * 0.1\n",
    "\n",
    "a_angle = np.angle(a, True)\n",
    "b_angle = np.angle(b, True)\n",
    "\n",
    "c = a + b\n",
    "d = np.angle(c)\n",
    "d_angle = np.angle(c, True)\n",
    "print(a_angle)\n",
    "print(b_angle)\n",
    "print(d_angle)"
   ]
  }
 ],
 "metadata": {
  "interpreter": {
   "hash": "07efdcd4b820c98a756949507a4d29d7862823915ec7477944641bea022f4f62"
  },
  "kernelspec": {
   "display_name": "Python 3.8.8 64-bit ('base': conda)",
   "name": "python3"
  },
  "language_info": {
   "codemirror_mode": {
    "name": "ipython",
    "version": 3
   },
   "file_extension": ".py",
   "mimetype": "text/x-python",
   "name": "python",
   "nbconvert_exporter": "python",
   "pygments_lexer": "ipython3",
   "version": "3.8.8"
  },
  "orig_nbformat": 4
 },
 "nbformat": 4,
 "nbformat_minor": 2
}
