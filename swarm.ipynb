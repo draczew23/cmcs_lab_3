{
 "cells": [
  {
   "cell_type": "markdown",
   "metadata": {},
   "source": [
    "# Task 1"
   ]
  },
  {
   "cell_type": "code",
   "execution_count": null,
   "metadata": {},
   "outputs": [],
   "source": [
    "import numpy as np\n",
    "from scipy.spatial import cKDTree\n",
    "import matplotlib.pyplot as plt\n",
    "import random\n",
    "from scipy import sparse"
   ]
  },
  {
   "cell_type": "code",
   "execution_count": 73,
   "metadata": {},
   "outputs": [
    {
     "ename": "ValueError",
     "evalue": "Some input data are greater than the size of the periodic box.",
     "output_type": "error",
     "traceback": [
      "\u001b[1;31m---------------------------------------------------------------------------\u001b[0m",
      "\u001b[1;31mValueError\u001b[0m                                Traceback (most recent call last)",
      "\u001b[1;32m~\\AppData\\Local\\Temp/ipykernel_6580/589284605.py\u001b[0m in \u001b[0;36m<module>\u001b[1;34m\u001b[0m\n\u001b[0;32m     71\u001b[0m     \u001b[1;31m# Creation of birds tree\u001b[0m\u001b[1;33m\u001b[0m\u001b[1;33m\u001b[0m\u001b[1;33m\u001b[0m\u001b[0m\n\u001b[0;32m     72\u001b[0m     \u001b[0mangles\u001b[0m \u001b[1;33m=\u001b[0m \u001b[0mcalc_angles\u001b[0m\u001b[1;33m(\u001b[0m\u001b[0mpositions\u001b[0m\u001b[1;33m)\u001b[0m\u001b[1;33m\u001b[0m\u001b[1;33m\u001b[0m\u001b[0m\n\u001b[1;32m---> 73\u001b[1;33m     \u001b[0mbirds_tree\u001b[0m \u001b[1;33m=\u001b[0m \u001b[0mcKDTree\u001b[0m\u001b[1;33m(\u001b[0m\u001b[0mpositions\u001b[0m\u001b[1;33m,\u001b[0m \u001b[0mboxsize\u001b[0m\u001b[1;33m=\u001b[0m\u001b[1;33m[\u001b[0m\u001b[0mL\u001b[0m\u001b[1;33m,\u001b[0m\u001b[0mL\u001b[0m\u001b[1;33m]\u001b[0m\u001b[1;33m)\u001b[0m\u001b[1;33m\u001b[0m\u001b[1;33m\u001b[0m\u001b[0m\n\u001b[0m\u001b[0;32m     74\u001b[0m     \u001b[0mdist\u001b[0m \u001b[1;33m=\u001b[0m \u001b[0mbirds_tree\u001b[0m\u001b[1;33m.\u001b[0m\u001b[0msparse_distance_matrix\u001b[0m\u001b[1;33m(\u001b[0m\u001b[0mbirds_tree\u001b[0m\u001b[1;33m,\u001b[0m\u001b[0mmax_distance\u001b[0m\u001b[1;33m=\u001b[0m\u001b[0mr\u001b[0m\u001b[1;33m,\u001b[0m\u001b[0moutput_type\u001b[0m\u001b[1;33m=\u001b[0m\u001b[1;34m'coo_matrix'\u001b[0m\u001b[1;33m)\u001b[0m \u001b[1;31m# format wyniku (ptak i, ptak j, dystans)\u001b[0m\u001b[1;33m\u001b[0m\u001b[1;33m\u001b[0m\u001b[0m\n\u001b[0;32m     75\u001b[0m \u001b[1;33m\u001b[0m\u001b[0m\n",
      "\u001b[1;32mckdtree.pyx\u001b[0m in \u001b[0;36mscipy.spatial.ckdtree.cKDTree.__init__\u001b[1;34m()\u001b[0m\n",
      "\u001b[1;31mValueError\u001b[0m: Some input data are greater than the size of the periodic box."
     ]
    }
   ],
   "source": [
    "#initializing our birds positions\n",
    "def initialize_birds(L, N):\n",
    "    x_positons = np.random.uniform(0, L, N)\n",
    "    y_positons = np.random.uniform(0, L, N) \n",
    "\n",
    "    combined = np.vstack((x_positons, y_positons)).T\n",
    "    return combined\n",
    "\n",
    "# we have to make a 2d vector of velocities\n",
    "def initialize_velocities(positions, v_0):\n",
    "\n",
    "    xes = positions[0:, 0:1]\n",
    "    yes = positions[0:, 1:] * 1j\n",
    "    z = xes + yes\n",
    "\n",
    "    angles = np.angle(z)\n",
    "    vx = v_0 * np.cos(angles)\n",
    "    vy = v_0 * np.sin(angles)    \n",
    "\n",
    "    combined = np.column_stack((vx, vy))\n",
    "    return combined\n",
    "\n",
    "# calculating angles of birds vs horiontal line\n",
    "def calc_angles(positions):\n",
    "\n",
    "    xes = positions[0:, 0:1]\n",
    "    yes = positions[0:, 1:] * 1j\n",
    "    z = xes + yes\n",
    "\n",
    "    angles = np.angle(z)\n",
    "    return angles\n",
    "\n",
    "# add noise in radians\n",
    "def add_noise(noise_val_degrees, number):\n",
    "    noise = np.random.uniform(-noise_val_degrees, noise_val_degrees, number)\n",
    "    noise_radians = np.radians(noise)\n",
    "\n",
    "    return noise_radians\n",
    "\n",
    "def find_nearest_neighbors(positons):\n",
    "    pass\n",
    "\n",
    "\n",
    "def new_direction(direction):\n",
    "    pass\n",
    "\n",
    "\n",
    "def new_velocity(velocity):\n",
    "    pass\n",
    "\n",
    "# Initialization parameters\n",
    "\n",
    "L = 2\n",
    "N = 10\n",
    "r = 1\n",
    "r_b = 4\n",
    "v_0 = 2\n",
    "a = 0.15\n",
    "\n",
    "t_steps = 100\n",
    "\n",
    "#  Here we initialize our birds postions and velocities\n",
    "positions = initialize_birds(L, N)\n",
    "velocities = initialize_velocities(positions, v_0)\n",
    "angles = calc_angles(positions)\n",
    "\n",
    "x_pos = positions[0:, 0:1]\n",
    "y_pos = positions[0:, 1:]\n",
    "\n",
    "for t in range(t_steps):\n",
    "    # Creation of birds tree\n",
    "    angles = calc_angles(positions) \n",
    "    birds_tree = cKDTree(positions, boxsize=[L,L])\n",
    "    dist = birds_tree.sparse_distance_matrix(birds_tree,max_distance=r,output_type='coo_matrix') # format wyniku (ptak i, ptak j, dystans)\n",
    "\n",
    "    dist_copy = dist.copy()\n",
    "    dist_copy_dense = dist_copy.todense()\n",
    "    dist_no_zero = dist_copy_dense != 0\n",
    "    dist_copy_dense[dist_no_zero] = 1\n",
    "\n",
    "    exp_angles_vec = np.exp(1j * angles)\n",
    "    sum_average_direction = np.dot(dist_copy_dense, exp_angles_vec)\n",
    "    noise = add_noise(5, N)\n",
    "    noise_matrix = np.asmatrix(noise).T\n",
    "    new_angles = np.angle(sum_average_direction) + a * noise_matrix\n",
    "\n",
    "    new_x = positions[0:, 0:1] + v_0 * np.cos(new_angles) #\n",
    "    new_y = positions[0:, 1:] + v_0 * np.sin(new_angles)   \n",
    "\n",
    "    positions[0:, 0:1] = new_x\n",
    "    positions[0:, 1:] = new_y\n",
    "\n",
    "    #plt.scatter(np.asarray(positions[0:, 0:1]), np.asarray(positions[0:, 1:]))\n",
    "    #plt.show()\n",
    "\n",
    " \n",
    "#sum_distances = np.sum(dist, axis=0)\n",
    "#print(np.angle(sum_average_direction))\n",
    "#print(noise_matrix)\n",
    "#print(new_angles_ar)\n",
    "#print(new_angles)\n",
    "\n",
    "#print(velocities)"
   ]
  },
  {
   "cell_type": "markdown",
   "metadata": {},
   "source": [
    " dist is a sparse matrix where distances beetween birds calculated, output format is (bird_i, bird_j, distance)\n",
    "\n",
    "#orient = np.random.uniform(-np.pi, np.pi, size=N)\n",
    "#data = np.exp(orient[dist.col]*1j)\n",
    "#neigh = sparse.coo_matrix(data, (dist.row(), dist.col()), shape = dist.get_shape()) # macierz do ktorej od razu wstawiamy w miejsca niezerowe macierzy exponenty\n",
    " trzeba policzyc elementy niezerowe od ptakow -> uzyskamy info ile ptakow\n",
    " w miejsca niezerowe macierzy dist trzeba zrobic exp(ithetai) gdzie theta_i to jest kąt między vektorem prędkości ptaka a poziomem"
   ]
  },
  {
   "cell_type": "markdown",
   "metadata": {},
   "source": [
    "## Test with calculating angles\n",
    "This will be needed to properly update velocities of birds"
   ]
  },
  {
   "cell_type": "code",
   "execution_count": null,
   "metadata": {},
   "outputs": [],
   "source": [
    "positions = initialize_birds(L, N)\n",
    "#print(positions)\n",
    "xes = positions[0:, 0:1]\n",
    "yes = positions[0:, 1:] * 1j\n",
    "z = xes + yes\n",
    "\n",
    "angles = np.angle(z)\n",
    "vx = v_0 * np.cos(angles)\n",
    "vy = v_0 * np.sin(angles)\n",
    "\n",
    "vel = np.column_stack((vx, vy)) # problem with velocity solved\n",
    "#print(angles)\n",
    "\n",
    "noise = np.random.uniform(-5, 5, 5)\n",
    "noise"
   ]
  },
  {
   "cell_type": "markdown",
   "metadata": {},
   "source": [
    "## Fun with sparse matrices"
   ]
  },
  {
   "cell_type": "code",
   "execution_count": null,
   "metadata": {},
   "outputs": [],
   "source": [
    "import numpy as np\n",
    "from scipy.sparse import csr_matrix\n",
    "\n",
    "# create a 2-D representation of the matrix\n",
    "A = np.array([[1, 0, 0, 0, 0, 0], [0, 0, 2, 0, 0, 1],\\\n",
    " [0, 0, 0, 2, 0, 0]])\n",
    "print(\"Dense matrix representation: \\n\", A)\n",
    "\n",
    "# convert to sparse matrix representation \n",
    "S = csr_matrix(A)\n",
    "print(\"Sparse matrix: \\n\",S)\n",
    "\n",
    "# convert back to 2-D representation of the matrix\n",
    "B = S.todense()\n",
    "print(\"Dense matrix: \\n\", B)\n",
    "\n",
    "g = B > 0\n",
    "print(g)    # Here i can input numbers in nonzero indices \n",
    "B[g] = 8\n",
    "print(B)\n",
    "\n",
    "# thats good news, we succesfuly inputed numbers to sparse matrix \n",
    "\n",
    "test = dist.todense()\n",
    "dist_numb = test != 0\n",
    "test[dist_numb] = 1\n",
    "#print(test)\n",
    "new = csr_matrix(test)\n",
    "nonzero_indices = new.nonzero()\n",
    "\n",
    "print(type(nonzero_indices))"
   ]
  },
  {
   "cell_type": "markdown",
   "metadata": {},
   "source": [
    "## Angles done correctly"
   ]
  },
  {
   "cell_type": "code",
   "execution_count": null,
   "metadata": {},
   "outputs": [],
   "source": [
    "exponential_angles = np.exp(1j * angles)\n",
    "exponential_angles_real_part = np.real(exponential_angles)\n",
    "exponential_angles_imag_part = np.imag(exponential_angles)\n",
    "#print(exponential_angles)\n",
    "#print(exponential_angles_real_part)\n",
    "#print(exponential_angles_imag_part)\n",
    "\n",
    "a = 0.3 + 1j * 0.2\n",
    "b = 0.4 + 1j * 0.1\n",
    "\n",
    "a_angle = np.angle(a, True)\n",
    "b_angle = np.angle(b, True)\n",
    "\n",
    "c = a + b\n",
    "d = np.angle(c)\n",
    "d_angle = np.angle(c, True)\n",
    "print(a_angle)\n",
    "print(b_angle)\n",
    "print(d_angle)"
   ]
  }
 ],
 "metadata": {
  "interpreter": {
   "hash": "07efdcd4b820c98a756949507a4d29d7862823915ec7477944641bea022f4f62"
  },
  "kernelspec": {
   "display_name": "Python 3.8.8 64-bit ('base': conda)",
   "name": "python3"
  },
  "language_info": {
   "codemirror_mode": {
    "name": "ipython",
    "version": 3
   },
   "file_extension": ".py",
   "mimetype": "text/x-python",
   "name": "python",
   "nbconvert_exporter": "python",
   "pygments_lexer": "ipython3",
   "version": "3.8.8"
  },
  "orig_nbformat": 4
 },
 "nbformat": 4,
 "nbformat_minor": 2
}
