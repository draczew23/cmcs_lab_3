{
 "cells": [
  {
   "cell_type": "markdown",
   "metadata": {},
   "source": [
    "# Task 1"
   ]
  },
  {
   "cell_type": "code",
   "execution_count": 2,
   "metadata": {},
   "outputs": [],
   "source": [
    "import numpy as np\n",
    "from scipy.spatial import cKDTree\n",
    "import matplotlib.pyplot as plt\n",
    "import random\n",
    "from scipy import sparse"
   ]
  },
  {
   "cell_type": "code",
   "execution_count": 66,
   "metadata": {},
   "outputs": [
    {
     "name": "stdout",
     "output_type": "stream",
     "text": [
      "[[0.78733355 0.78467203 0.76353353 0.77917585 0.7715056  0.76385571\n",
      "  0.77653537 0.77242514 0.76874485 0.78746277]\n",
      " [0.76862027 0.76595876 0.74482026 0.76046258 0.75279232 0.74514244\n",
      "  0.75782209 0.75371187 0.75003158 0.76874949]\n",
      " [0.76862027 0.76595876 0.74482026 0.76046258 0.75279232 0.74514244\n",
      "  0.75782209 0.75371187 0.75003158 0.76874949]\n",
      " [0.72309836 0.72043685 0.69929834 0.71494066 0.70727041 0.69962052\n",
      "  0.71230018 0.70818996 0.70450966 0.72322758]\n",
      " [0.65117556 0.64851405 0.62737555 0.64301787 0.63534762 0.62769773\n",
      "  0.64037738 0.63626716 0.63258687 0.65130479]\n",
      " [0.70281979 0.70015828 0.67901978 0.6946621  0.68699184 0.67934196\n",
      "  0.69202161 0.68791139 0.6842311  0.70294902]\n",
      " [0.67160194 0.66894043 0.64780193 0.66344425 0.655774   0.64812411\n",
      "  0.66080376 0.65669354 0.65301325 0.67173117]\n",
      " [0.85406328 0.85140177 0.83026326 0.84590558 0.83823533 0.83058545\n",
      "  0.8432651  0.83915488 0.83547458 0.8541925 ]\n",
      " [0.7513517  0.74869019 0.72755169 0.74319401 0.73552375 0.72787387\n",
      "  0.74055352 0.7364433  0.73276301 0.75148092]\n",
      " [0.7943032  0.79164169 0.77050318 0.7861455  0.77847525 0.77082536\n",
      "  0.78350502 0.7793948  0.7757145  0.79443242]]\n"
     ]
    }
   ],
   "source": [
    "#initializing our birds positions\n",
    "def initialize_birds(L, N):\n",
    "    x_positons = np.random.uniform(0, L, N)\n",
    "    y_positons = np.random.uniform(0, L, N) \n",
    "\n",
    "    combined = np.vstack((x_positons, y_positons)).T\n",
    "    return combined\n",
    "\n",
    "# we have to make a 2d vector of velocities\n",
    "def initialize_velocities(positions, v_0):\n",
    "\n",
    "    xes = positions[0:, 0:1]\n",
    "    yes = positions[0:, 1:] * 1j\n",
    "    z = xes + yes\n",
    "\n",
    "    angles = np.angle(z)\n",
    "    vx = v_0 * np.cos(angles)\n",
    "    vy = v_0 * np.sin(angles)    \n",
    "\n",
    "    combined = np.column_stack((vx, vy))\n",
    "    return combined\n",
    "\n",
    "# calculating angles of birds vs horiontal line\n",
    "def calc_angles(positions):\n",
    "\n",
    "    xes = positions[0:, 0:1]\n",
    "    yes = positions[0:, 1:] * 1j\n",
    "    z = xes + yes\n",
    "\n",
    "    angles = np.angle(z)\n",
    "    return angles\n",
    "\n",
    "# add noise in radians\n",
    "def add_noise(noise_val_degrees, number):\n",
    "    noise = np.random.uniform(-noise_val_degrees, noise_val_degrees, number)\n",
    "    noise_radians = np.radians(noise)\n",
    "\n",
    "    return noise_radians\n",
    "\n",
    "def find_nearest_neighbors(positons):\n",
    "    pass\n",
    "\n",
    "\n",
    "def new_direction(direction):\n",
    "    pass\n",
    "\n",
    "\n",
    "def new_velocity(velocity):\n",
    "    pass\n",
    "\n",
    "# Initialization parameters\n",
    "\n",
    "L = 2\n",
    "N = 10\n",
    "r = 1\n",
    "r_b = 4\n",
    "v_0 = 2\n",
    "a = 0.15\n",
    "\n",
    "t_steps = 1\n",
    "\n",
    "#  Here we initialize our birds postions and velocities\n",
    "positions = initialize_birds(L, N)\n",
    "velocities = initialize_velocities(positions, v_0)\n",
    "angles = calc_angles(positions)\n",
    "\n",
    "for t in range(t_steps):\n",
    "    # Creation of birds tree \n",
    "    birds_tree = cKDTree(positions, boxsize=[L,L])\n",
    "    dist = birds_tree.sparse_distance_matrix(birds_tree,max_distance=r,output_type='coo_matrix') # format wyniku (ptak i, ptak j, dystans)\n",
    "\n",
    "    dist_copy = dist.copy()\n",
    "    dist_copy_dense = dist_copy.todense()\n",
    "    dist_no_zero = dist_copy_dense != 0\n",
    "    dist_copy_dense[dist_no_zero] = 1\n",
    "\n",
    "    exp_angles_vec = np.exp(1j * angles)\n",
    "    sum_average_direction = np.dot(dist_copy_dense, exp_angles_vec)\n",
    "    noise = add_noise(5, N).T\n",
    "    new_angles = np.angle(sum_average_direction) + a * noise\n",
    "        \n",
    "\n",
    "\n",
    "\n",
    "# dist is a sparse matrix where distances beetween birds calculated, output format is (bird_i, bird_j, distance)\n",
    "\n",
    "#orient = np.random.uniform(-np.pi, np.pi, size=N)\n",
    "#data = np.exp(orient[dist.col]*1j)\n",
    "#neigh = sparse.coo_matrix(data, (dist.row(), dist.col()), shape = dist.get_shape()) # macierz do ktorej od razu wstawiamy w miejsca niezerowe macierzy exponenty\n",
    "# trzeba policzyc elementy niezerowe od ptakow -> uzyskamy info ile ptakow\n",
    "# w miejsca niezerowe macierzy dist trzeba zrobic exp(ithetai) gdzie theta_i to jest kąt między vektorem prędkości ptaka a poziomem\n",
    "\n",
    "#dist_no_zero = dist != 0\n",
    "#non_zero_index = dist.nonzero()\n",
    "\n",
    "\n",
    "\n",
    "#sum_distances = np.sum(dist, axis=0)\n",
    "print(new_angles)\n",
    "\n",
    "#print(velocities)"
   ]
  },
  {
   "cell_type": "markdown",
   "metadata": {},
   "source": [
    "## Test with calculating angles\n",
    "This will be needed to properly update velocities of birds"
   ]
  },
  {
   "cell_type": "code",
   "execution_count": 39,
   "metadata": {},
   "outputs": [
    {
     "data": {
      "text/plain": [
       "array([-0.65919472, -3.14478449, -3.98176712,  1.38069003,  2.52309327])"
      ]
     },
     "execution_count": 39,
     "metadata": {},
     "output_type": "execute_result"
    }
   ],
   "source": [
    "positions = initialize_birds(L, N)\n",
    "#print(positions)\n",
    "xes = positions[0:, 0:1]\n",
    "yes = positions[0:, 1:] * 1j\n",
    "z = xes + yes\n",
    "\n",
    "angles = np.angle(z)\n",
    "vx = v_0 * np.cos(angles)\n",
    "vy = v_0 * np.sin(angles)\n",
    "\n",
    "vel = np.column_stack((vx, vy)) # problem with velocity solved\n",
    "#print(angles)\n",
    "\n",
    "noise = np.random.uniform(-5, 5, 5)\n",
    "noise"
   ]
  },
  {
   "cell_type": "markdown",
   "metadata": {},
   "source": [
    "## Fun with sparse matrices"
   ]
  },
  {
   "cell_type": "code",
   "execution_count": 5,
   "metadata": {},
   "outputs": [
    {
     "name": "stdout",
     "output_type": "stream",
     "text": [
      "Dense matrix representation: \n",
      " [[1 0 0 0 0 0]\n",
      " [0 0 2 0 0 1]\n",
      " [0 0 0 2 0 0]]\n",
      "Sparse matrix: \n",
      "   (0, 0)\t1\n",
      "  (1, 2)\t2\n",
      "  (1, 5)\t1\n",
      "  (2, 3)\t2\n",
      "Dense matrix: \n",
      " [[1 0 0 0 0 0]\n",
      " [0 0 2 0 0 1]\n",
      " [0 0 0 2 0 0]]\n",
      "[[ True False False False False False]\n",
      " [False False  True False False  True]\n",
      " [False False False  True False False]]\n",
      "[[8 0 0 0 0 0]\n",
      " [0 0 8 0 0 8]\n",
      " [0 0 0 8 0 0]]\n",
      "<class 'tuple'>\n"
     ]
    }
   ],
   "source": [
    "import numpy as np\n",
    "from scipy.sparse import csr_matrix\n",
    "\n",
    "# create a 2-D representation of the matrix\n",
    "A = np.array([[1, 0, 0, 0, 0, 0], [0, 0, 2, 0, 0, 1],\\\n",
    " [0, 0, 0, 2, 0, 0]])\n",
    "print(\"Dense matrix representation: \\n\", A)\n",
    "\n",
    "# convert to sparse matrix representation \n",
    "S = csr_matrix(A)\n",
    "print(\"Sparse matrix: \\n\",S)\n",
    "\n",
    "# convert back to 2-D representation of the matrix\n",
    "B = S.todense()\n",
    "print(\"Dense matrix: \\n\", B)\n",
    "\n",
    "g = B > 0\n",
    "print(g)    # Here i can input numbers in nonzero indices \n",
    "B[g] = 8\n",
    "print(B)\n",
    "\n",
    "# thats good news, we succesfuly inputed numbers to sparse matrix \n",
    "\n",
    "test = dist.todense()\n",
    "dist_numb = test != 0\n",
    "test[dist_numb] = 1\n",
    "#print(test)\n",
    "new = csr_matrix(test)\n",
    "nonzero_indices = new.nonzero()\n",
    "\n",
    "print(type(nonzero_indices))"
   ]
  },
  {
   "cell_type": "markdown",
   "metadata": {},
   "source": [
    "## Angles done correctly"
   ]
  },
  {
   "cell_type": "code",
   "execution_count": 33,
   "metadata": {},
   "outputs": [
    {
     "name": "stdout",
     "output_type": "stream",
     "text": [
      "33.69006752597979\n",
      "14.036243467926479\n",
      "23.198590513648192\n"
     ]
    }
   ],
   "source": [
    "exponential_angles = np.exp(1j * angles)\n",
    "exponential_angles_real_part = np.real(exponential_angles)\n",
    "exponential_angles_imag_part = np.imag(exponential_angles)\n",
    "#print(exponential_angles)\n",
    "#print(exponential_angles_real_part)\n",
    "#print(exponential_angles_imag_part)\n",
    "\n",
    "a = 0.3 + 1j * 0.2\n",
    "b = 0.4 + 1j * 0.1\n",
    "\n",
    "a_angle = np.angle(a, True)\n",
    "b_angle = np.angle(b, True)\n",
    "\n",
    "c = a + b\n",
    "d = np.angle(c)\n",
    "d_angle = np.angle(c, True)\n",
    "print(a_angle)\n",
    "print(b_angle)\n",
    "print(d_angle)"
   ]
  }
 ],
 "metadata": {
  "interpreter": {
   "hash": "07efdcd4b820c98a756949507a4d29d7862823915ec7477944641bea022f4f62"
  },
  "kernelspec": {
   "display_name": "Python 3.8.8 64-bit ('base': conda)",
   "name": "python3"
  },
  "language_info": {
   "codemirror_mode": {
    "name": "ipython",
    "version": 3
   },
   "file_extension": ".py",
   "mimetype": "text/x-python",
   "name": "python",
   "nbconvert_exporter": "python",
   "pygments_lexer": "ipython3",
   "version": "3.8.8"
  },
  "orig_nbformat": 4
 },
 "nbformat": 4,
 "nbformat_minor": 2
}
