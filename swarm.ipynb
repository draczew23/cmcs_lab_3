{
 "cells": [
  {
   "cell_type": "markdown",
   "metadata": {},
   "source": [
    "# Task 1"
   ]
  },
  {
   "cell_type": "code",
   "execution_count": 27,
   "metadata": {},
   "outputs": [],
   "source": [
    "import numpy as np\n",
    "from scipy.spatial import cKDTree\n",
    "import matplotlib.pyplot as plt\n",
    "import random\n",
    "from scipy import sparse"
   ]
  },
  {
   "cell_type": "code",
   "execution_count": 32,
   "metadata": {},
   "outputs": [
    {
     "data": {
      "image/png": "[encoded data removed]",
      "text/plain": [
       "<Figure size 432x288 with 1 Axes>"
      ]
     },
     "metadata": {
      "needs_background": "light"
     },
     "output_type": "display_data"
    }
   ],
   "source": [
    "# initializing our birds positions\n",
    "def initialize_birds(L, N):\n",
    "    x_positons = np.random.uniform(0, L - 1, N)\n",
    "    y_positons = np.random.uniform(0, L - 1, N) \n",
    "\n",
    "    combined = np.vstack((x_positons, y_positons)).T\n",
    "    return combined\n",
    "\n",
    "\n",
    "# we have to make a 2d vector of velocities\n",
    "def initialize_velocities(positions, v_0):\n",
    "\n",
    "    xes = positions[0:, 0:1]\n",
    "    yes = positions[0:, 1:] * 1j\n",
    "    z = xes + yes\n",
    "\n",
    "    angles = np.angle(z)\n",
    "    vx = v_0 * np.cos(angles)\n",
    "    vy = v_0 * np.sin(angles)    \n",
    "\n",
    "    combined = np.column_stack((vx, vy))\n",
    "    return combined\n",
    "\n",
    "\n",
    "# calculating angles of birds vs horiontal line\n",
    "def calc_angles(positions):\n",
    "\n",
    "    xes = positions[0:, 0:1]\n",
    "    yes = positions[0:, 1:] * 1j\n",
    "    z = xes + yes\n",
    "\n",
    "    angles = np.angle(z)\n",
    "    return angles\n",
    "\n",
    "\n",
    "# add noise in radians\n",
    "def add_noise(noise_val_degrees, number):\n",
    "    noise = np.random.uniform(-noise_val_degrees, noise_val_degrees, number)\n",
    "    noise_radians = np.radians(noise)\n",
    "\n",
    "    return noise_radians\n",
    "\n",
    "\n",
    "def update_angles(dist, angles, noise_degrees):\n",
    "\n",
    "    dist_copy = dist.copy()\n",
    "    dist_copy_dense = dist_copy.todense()\n",
    "    dist_no_zero = dist_copy_dense != 0\n",
    "    dist_copy_dense[dist_no_zero] = 1\n",
    "\n",
    "    exp_angles_vec = np.exp(1j * angles)\n",
    "    sum_average_direction = np.dot(dist_copy_dense, exp_angles_vec)\n",
    "    noise = add_noise(noise_degrees, N)\n",
    "    noise_matrix = np.asmatrix(noise).T\n",
    "    new_angles = np.angle(sum_average_direction) + a * noise_matrix\n",
    "    return new_angles   \n",
    "\n",
    "\n",
    "def apply_boundary_conditions(positions, new_x, new_y, L):\n",
    "    # boundary conditions\n",
    "    new_x = np.where(new_x < L, new_x, new_x - L)\n",
    "    new_x = np.where(new_x > 0, new_x, new_x + L)\n",
    "\n",
    "    new_y = np.where(new_y < L, new_y, new_y - L)\n",
    "    new_y = np.where(new_y > 0, new_y, new_y + L)\n",
    "\n",
    "    positions[0:, 0:1] = new_x\n",
    "    positions[0:, 1:] = new_y\n",
    "\n",
    "\n",
    "# Initialization parameters\n",
    "\n",
    "L = 12\n",
    "N = 50\n",
    "r = 1\n",
    "r_b = 4\n",
    "v_0 = 2\n",
    "a = 0.15\n",
    "noise_degrees = 60\n",
    "\n",
    "t_steps = 100\n",
    "\n",
    "#  Here we initialize our birds postions and velocities\n",
    "positions = initialize_birds(L, N)\n",
    "velocities = initialize_velocities(positions, v_0)\n",
    "angles = calc_angles(positions)\n",
    "\n",
    "for t in range(t_steps):\n",
    "\n",
    "    # Creation of birds tree\n",
    "    angles = calc_angles(positions) \n",
    "    birds_tree = cKDTree(positions, boxsize=[L,L])\n",
    "    dist = birds_tree.sparse_distance_matrix(birds_tree,max_distance=r,output_type='coo_matrix')\n",
    "\n",
    "    new_angles = update_angles(dist, angles, noise_degrees)\n",
    "\n",
    "    new_x = positions[0:, 0:1] + v_0 * np.cos(new_angles) \n",
    "    new_y = positions[0:, 1:] + v_0 * np.sin(new_angles)   \n",
    "\n",
    "    apply_boundary_conditions(positions, new_x, new_y, L)\n",
    "\n",
    "    # Plot birds \n",
    "    plt.clf()\n",
    "    #plt.quiver(np.asarray(positions[0:, 0:1]), np.asarray(positions[0:, 1:]), np.asarray(positions[0:, 0:1]), np.asarray(positions[0:, 1:]), angles)\n",
    "    plt.quiver(np.asarray(positions[0:, 0:1]), np.asarray(positions[0:, 1:]), angles)\n",
    "    nStr = str(t) \n",
    "    nStr = nStr.rjust(5, '0')\n",
    "    plt.title(\"Swarm, step \" + nStr)\n",
    "    plt.savefig('img' + nStr + '.png')\n"
   ]
  },
  {
   "cell_type": "markdown",
   "metadata": {},
   "source": [
    "### Delete plots"
   ]
  },
  {
   "cell_type": "code",
   "execution_count": 31,
   "metadata": {},
   "outputs": [],
   "source": [
    "import os\n",
    "\n",
    "dir_name = \"D:\\Matieriały_magisterskie\\sem_1\\Computer modeling of complex systems\\cmcs_lab_3\"\n",
    "test = os.listdir(dir_name)\n",
    "\n",
    "for item in test:\n",
    "    if item.endswith(\".png\"):\n",
    "        os.remove(os.path.join(dir_name, item))"
   ]
  },
  {
   "cell_type": "markdown",
   "metadata": {},
   "source": [
    "### Make animation"
   ]
  },
  {
   "cell_type": "code",
   "execution_count": 30,
   "metadata": {},
   "outputs": [
    {
     "ename": "IndexError",
     "evalue": "list index out of range",
     "output_type": "error",
     "traceback": [
      "\u001b[1;31m---------------------------------------------------------------------------\u001b[0m",
      "\u001b[1;31mIndexError\u001b[0m                                Traceback (most recent call last)",
      "\u001b[1;32m~\\AppData\\Local\\Temp/ipykernel_19828/1620978894.py\u001b[0m in \u001b[0;36m<module>\u001b[1;34m\u001b[0m\n\u001b[0;32m     10\u001b[0m \u001b[1;33m\u001b[0m\u001b[0m\n\u001b[0;32m     11\u001b[0m \u001b[1;31m# Save into a GIF file that loops forever\u001b[0m\u001b[1;33m\u001b[0m\u001b[1;33m\u001b[0m\u001b[1;33m\u001b[0m\u001b[0m\n\u001b[1;32m---> 12\u001b[1;33m frames[0].save('png_to_gif.gif', format='GIF',\n\u001b[0m\u001b[0;32m     13\u001b[0m                \u001b[0mappend_images\u001b[0m\u001b[1;33m=\u001b[0m\u001b[0mframes\u001b[0m\u001b[1;33m[\u001b[0m\u001b[1;36m1\u001b[0m\u001b[1;33m:\u001b[0m\u001b[1;33m]\u001b[0m\u001b[1;33m,\u001b[0m\u001b[1;33m\u001b[0m\u001b[1;33m\u001b[0m\u001b[0m\n\u001b[0;32m     14\u001b[0m                \u001b[0msave_all\u001b[0m\u001b[1;33m=\u001b[0m\u001b[1;32mTrue\u001b[0m\u001b[1;33m,\u001b[0m\u001b[1;33m\u001b[0m\u001b[1;33m\u001b[0m\u001b[0m\n",
      "\u001b[1;31mIndexError\u001b[0m: list index out of range"
     ]
    }
   ],
   "source": [
    "\n",
    "from PIL import Image\n",
    "import glob\n",
    " \n",
    "# Create the frames\n",
    "frames = []\n",
    "imgs = glob.glob(\"*.png\")\n",
    "for i in imgs:\n",
    "    new_frame = Image.open(i)\n",
    "    frames.append(new_frame)\n",
    " \n",
    "# Save into a GIF file that loops forever\n",
    "frames[0].save('png_to_gif.gif', format='GIF',\n",
    "               append_images=frames[1:],\n",
    "               save_all=True,\n",
    "               duration=160, loop=0)"
   ]
  },
  {
   "cell_type": "code",
   "execution_count": null,
   "metadata": {},
   "outputs": [
    {
     "data": {
      "text/plain": [
       "array([[0.70581278],\n",
       "       [0.94301988],\n",
       "       [0.69148024],\n",
       "       [0.75405844],\n",
       "       [0.80261058],\n",
       "       [0.09171217],\n",
       "       [0.81566895],\n",
       "       [0.70135372],\n",
       "       [0.9813882 ],\n",
       "       [0.72206201],\n",
       "       [0.48675563],\n",
       "       [0.70571675],\n",
       "       [0.9990285 ],\n",
       "       [0.83184784],\n",
       "       [0.98278   ],\n",
       "       [0.75309511],\n",
       "       [0.73886609],\n",
       "       [0.94186764],\n",
       "       [0.98025865],\n",
       "       [0.73243699],\n",
       "       [0.72816071],\n",
       "       [0.75399498],\n",
       "       [0.91964772],\n",
       "       [0.81366899],\n",
       "       [0.73765127],\n",
       "       [0.70769997],\n",
       "       [0.68793729],\n",
       "       [0.75871239],\n",
       "       [0.70197964],\n",
       "       [0.15997712],\n",
       "       [0.73197724],\n",
       "       [0.90767807],\n",
       "       [0.17526382],\n",
       "       [0.76502128],\n",
       "       [0.98124831],\n",
       "       [0.28702594],\n",
       "       [0.70511713],\n",
       "       [0.74532536],\n",
       "       [0.72800581],\n",
       "       [0.67918824],\n",
       "       [0.71237672],\n",
       "       [0.79685024],\n",
       "       [0.67882869],\n",
       "       [0.9312497 ],\n",
       "       [0.73676217],\n",
       "       [0.25999022],\n",
       "       [0.80496886],\n",
       "       [0.91290855],\n",
       "       [0.16157609],\n",
       "       [0.68134685]])"
      ]
     },
     "execution_count": 23,
     "metadata": {},
     "output_type": "execute_result"
    }
   ],
   "source": [
    "x_dir = np.cos(angles)\n",
    "y_dir = np.sin(angles)\n",
    "y_dir"
   ]
  }
 ],
 "metadata": {
  "interpreter": {
   "hash": "07efdcd4b820c98a756949507a4d29d7862823915ec7477944641bea022f4f62"
  },
  "kernelspec": {
   "display_name": "Python 3.8.8 64-bit ('base': conda)",
   "name": "python3"
  },
  "language_info": {
   "codemirror_mode": {
    "name": "ipython",
    "version": 3
   },
   "file_extension": ".py",
   "mimetype": "text/x-python",
   "name": "python",
   "nbconvert_exporter": "python",
   "pygments_lexer": "ipython3",
   "version": "3.8.8"
  },
  "orig_nbformat": 4
 },
 "nbformat": 4,
 "nbformat_minor": 2
}
